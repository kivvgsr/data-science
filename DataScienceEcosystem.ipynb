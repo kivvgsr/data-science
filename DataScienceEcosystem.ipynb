{
 "cells": [
  {
   "cell_type": "markdown",
   "id": "92bb3506-3012-4617-b0d9-e54d8a745943",
   "metadata": {},
   "source": [
    "# Data Science Tools and Ecosystem"
   ]
  },
  {
   "cell_type": "markdown",
   "id": "be5c5ff1-01f5-4e73-aa11-895706c55aa3",
   "metadata": {},
   "source": [
    "In this notebook, Data Science Tools and Ecosystem are summarized."
   ]
  },
  {
   "cell_type": "markdown",
   "id": "aed451e4-5367-419b-aebd-49e8703841b7",
   "metadata": {},
   "source": [
    "Objectives:\n",
    "+ python\n",
    "+ sql\n",
    "+ scala\n",
    "+ java"
   ]
  },
  {
   "cell_type": "markdown",
   "id": "3e707209-8229-4b69-8198-2bc24d9c0fbc",
   "metadata": {},
   "source": [
    "#### Some of the popular languages that Data Scientists use are:\n",
    "1. python\n",
    "2. sql\n",
    "3. scala"
   ]
  },
  {
   "cell_type": "markdown",
   "id": "3a78faf8-c02d-464e-82aa-cc015aebf8d3",
   "metadata": {},
   "source": [
    "In this notebook, Data Science Tools and Ecosystem are summarized."
   ]
  },
  {
   "cell_type": "markdown",
   "id": "c38413d4-43e7-4df2-a865-06f814301dfe",
   "metadata": {},
   "source": [
    "Some of the commonly used libraries used by Data Scientists include:\n",
    "1. SciPy\n",
    "2. TensorFlow\n",
    "3. Pandas\n"
   ]
  },
  {
   "cell_type": "markdown",
   "id": "6b8ed704-0998-4120-812b-d49a56efae11",
   "metadata": {},
   "source": [
    "|Data Science Tools|\n",
    "|------------------|\n",
    "|Git|\n",
    "|Apache Subversion|\n",
    "|Eclipse IDE|"
   ]
  },
  {
   "cell_type": "markdown",
   "id": "2fd1fe0c-e2fc-4636-b385-11439a3aa511",
   "metadata": {
    "tags": []
   },
   "source": [
    "### Below are a few examples of evaluating arithmetic expressions in Python\n",
    "x=4\n",
    "y=2\n",
    "z=x+y\n"
   ]
  },
  {
   "cell_type": "code",
   "execution_count": 2,
   "id": "8cd1fda4-a767-4924-bd4c-14201f031c1e",
   "metadata": {
    "tags": []
   },
   "outputs": [
    {
     "name": "stdout",
     "output_type": "stream",
     "text": [
      "17\n"
     ]
    }
   ],
   "source": [
    "#This a simple arithmetic expression to mutiply then add integers\n",
    "print((3*4)+5)"
   ]
  },
  {
   "cell_type": "code",
   "execution_count": 3,
   "id": "4f002764-208c-44ce-b633-ec7358112cb8",
   "metadata": {
    "tags": []
   },
   "outputs": [
    {
     "name": "stdout",
     "output_type": "stream",
     "text": [
      "3\n"
     ]
    }
   ],
   "source": [
    "#This will convert 200 minutes to hours by diving by 60\n",
    "print(200//60)"
   ]
  },
  {
   "cell_type": "markdown",
   "id": "79bed259-cd05-4428-b532-cabfa97919e7",
   "metadata": {},
   "source": [
    "## Author                                                             \n",
    "\n",
    "## APPANA KRISHNA PREETHI"
   ]
  },
  {
   "cell_type": "code",
   "execution_count": null,
   "id": "c16bf37c-eee2-4bdc-b476-6da92559c0b8",
   "metadata": {},
   "outputs": [],
   "source": []
  }
 ],
 "metadata": {
  "kernelspec": {
   "display_name": "Python",
   "language": "python",
   "name": "conda-env-python-py"
  },
  "language_info": {
   "codemirror_mode": {
    "name": "ipython",
    "version": 3
   },
   "file_extension": ".py",
   "mimetype": "text/x-python",
   "name": "python",
   "nbconvert_exporter": "python",
   "pygments_lexer": "ipython3",
   "version": "3.7.12"
  }
 },
 "nbformat": 4,
 "nbformat_minor": 5
}
